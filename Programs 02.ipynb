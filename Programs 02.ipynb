{
 "cells": [
  {
   "cell_type": "code",
   "execution_count": 25,
   "id": "cf54f938-3ca4-4ee1-8908-d7a2d5c7b9b2",
   "metadata": {},
   "outputs": [
    {
     "name": "stdin",
     "output_type": "stream",
     "text": [
      "Hello, what is your name?  Sandesh\n"
     ]
    },
    {
     "name": "stdout",
     "output_type": "stream",
     "text": [
      "Hello, Sandesh. Good to meet you!\n"
     ]
    }
   ],
   "source": [
    "\"\"\"\n",
    "Last week you wrote a program that printed out a cheery greeting including your\n",
    "name. Take a copy of it, and modify it so that the user enters their name at the\n",
    "keyboard, and then receives a greeting. For example:\n",
    "Hello, what is your name? Mr Apricot\n",
    "Hello, Mr Apricot. Good to meet you!\n",
    "\"\"\"\n",
    "# Asking the user to enter their name\n",
    "name = input(\"Hello, what is your name? \")\n",
    "\n",
    "# Printing with concatenated greeting\n",
    "print(f\"Hello, {name}. Good to meet you!\")"
   ]
  },
  {
   "cell_type": "code",
   "execution_count": 31,
   "id": "64a94baf-4f77-48f8-9156-a0fa53f75a62",
   "metadata": {},
   "outputs": [
    {
     "name": "stdin",
     "output_type": "stream",
     "text": [
      "Enter a temperature in Celsius:  32.5\n"
     ]
    },
    {
     "name": "stdout",
     "output_type": "stream",
     "text": [
      "32.5 C is equivalent to 90.5 F.\n"
     ]
    }
   ],
   "source": [
    "\"\"\"\n",
    "Write a program that prompts a user to enter a temperature in Celsius, and then\n",
    "displays the corresponding temperature in Fahrenheit, like so:\n",
    "Enter a temperature in Celsius: 32.5\n",
    "32.5C is equivalent to 90.5F.\n",
    "\"\"\"\n",
    "# Ask the user to enter a temperature in Celsius\n",
    "celsius = float(input(\"Enter a temperature in Celsius: \"))\n",
    "\n",
    "# Converting Celsius to Fahrenheit\n",
    "fahrenheit = (celsius * 9/5) + 32\n",
    "\n",
    "# Displaying the result\n",
    "print(f\"{celsius} C is equivalent to {fahrenheit} F.\")"
   ]
  },
  {
   "cell_type": "code",
   "execution_count": 22,
   "id": "f599bdc4-6f0d-4c8c-9216-81ab903ccf99",
   "metadata": {},
   "outputs": [
    {
     "name": "stdin",
     "output_type": "stream",
     "text": [
      "How many students?  133\n",
      "Required group size?  22\n"
     ]
    },
    {
     "name": "stdout",
     "output_type": "stream",
     "text": [
      "There will be 6 groups with 1 student left over.\n"
     ]
    }
   ],
   "source": [
    "\"\"\"\n",
    "The Head of Computing at the University of Poppleton is tasked with dividing a\n",
    "group of students into lab groups. A lab group is usually 24 students, but this is\n",
    "sometimes varied to create groups of similar size. Write a program that prompts for\n",
    "the number of students and group size, and then displays how many groups will be\n",
    "needed and how many will be le over in a smaller group.\n",
    "How many students? 113\n",
    "Required group size? 22\n",
    "There will be 5 groups with 3 students left over.\n",
    "For bonus credit, see if you can fix the grammar in the output. So if there were 101\n",
    "students in groups of 20 the output would be:\n",
    "There will be 5 groups with 1 student left over.\n",
    "\"\"\"\n",
    "# Asking the user for the number of students and group size\n",
    "students = int(input(\"How many students? \"))\n",
    "group_size = int(input(\"Required group size? \"))\n",
    "\n",
    "# Calculating the number of groups and leftover students\n",
    "num_groups = students // group_size\n",
    "leftover = students % group_size\n",
    "\n",
    "# Determining proper grammar for group and student\n",
    "group_word = \"groups\" if num_groups != 1 else \"group\"\n",
    "student_word = \"students\" if leftover != 1 else \"student\"\n",
    "\n",
    "# Displaying the result with correct grammar\n",
    "print(f\"There will be {num_groups} {group_word} with {leftover} {student_word} left over.\")\n"
   ]
  },
  {
   "cell_type": "code",
   "execution_count": 18,
   "id": "640b25cd-746e-4273-afe5-0bbc1f5c7aff",
   "metadata": {},
   "outputs": [
    {
     "name": "stdin",
     "output_type": "stream",
     "text": [
      "How many sweets are there?  50\n",
      "How many pupils are there?  5\n"
     ]
    },
    {
     "name": "stdout",
     "output_type": "stream",
     "text": [
      "Each pupil will get 10 sweets.\n",
      "There will be 0 sweets left over.\n"
     ]
    }
   ],
   "source": [
    "\"\"\"\n",
    "A kindly teacher wishes to distribute a tub of sweets between her pupils. She will\n",
    "first count the sweets and then divide them according to how many pupils attend\n",
    "that day. Write a program that will tell the teacher how many sweets to give to each\n",
    "pupil, and how many she will have le over.\n",
    "\"\"\"\n",
    "# Asking the user for the number of sweets and the number of pupils\n",
    "sweets = int(input(\"How many sweets are there? \"))\n",
    "pupils = int(input(\"How many pupils are there? \"))\n",
    "\n",
    "# Calculating the number of sweets per pupil and leftover sweets\n",
    "sweets_per_pupil = sweets // pupils\n",
    "leftover_sweets = sweets % pupils\n",
    "\n",
    "# Displaying the result\n",
    "print(f\"Each pupil will get {sweets_per_pupil} sweets.\")\n",
    "print(f\"There will be {leftover_sweets} sweets left over.\")\n"
   ]
  },
  {
   "cell_type": "code",
   "execution_count": null,
   "id": "26bc429a-3af3-45dc-a012-beae35cb66e1",
   "metadata": {},
   "outputs": [],
   "source": []
  }
 ],
 "metadata": {
  "kernelspec": {
   "display_name": "Python 3 (ipykernel)",
   "language": "python",
   "name": "python3"
  },
  "language_info": {
   "codemirror_mode": {
    "name": "ipython",
    "version": 3
   },
   "file_extension": ".py",
   "mimetype": "text/x-python",
   "name": "python",
   "nbconvert_exporter": "python",
   "pygments_lexer": "ipython3",
   "version": "3.12.3"
  }
 },
 "nbformat": 4,
 "nbformat_minor": 5
}
