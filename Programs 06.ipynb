{
 "cells": [
  {
   "cell_type": "code",
   "execution_count": 2,
   "id": "729849bf-1150-44b8-b48d-05a0f9e5aca9",
   "metadata": {},
   "outputs": [
    {
     "name": "stdout",
     "output_type": "stream",
     "text": [
      "1010\n"
     ]
    }
   ],
   "source": [
    "\"\"\"\n",
    "Write a function that accepts a positive integer as a parameter and then returns a\n",
    "representation of that number in binary (base 2).\n",
    "Hint: This is in many ways a trick question. Think!\n",
    "\"\"\"\n",
    "def binary(num):\n",
    "    # Check if the input number is positive\n",
    "    if num > 0:\n",
    "        # Convert the number to binary using bin()\n",
    "        return bin(num)[2:]\n",
    "    else:\n",
    "        # Print an error message if not positive\n",
    "        print(\"Enter positive value\")\n",
    "\n",
    "#Convert the number 10 to its binary representation\n",
    "print(binary(10))\n"
   ]
  },
  {
   "cell_type": "code",
   "execution_count": 6,
   "id": "2f454296-d700-4458-b626-3433cdab07d9",
   "metadata": {},
   "outputs": [
    {
     "name": "stdout",
     "output_type": "stream",
     "text": [
      "[1, 2, 5, 10]\n"
     ]
    }
   ],
   "source": [
    "\"\"\"\n",
    "Write and test a function that takes an integer as its parameter and returns the\n",
    "factors of that integer. (A factor is an integer which can be multiplied by another to\n",
    "yield the original).\n",
    "\"\"\"\n",
    "def factors(num):\n",
    "    #list to store the factors\n",
    "    factors = []\n",
    "  \n",
    "    # Loop from 1 to the given number\n",
    "    for i in range(1, num + 1):\n",
    "        # Check if 'i' divide leaves remainder\n",
    "        if num % i == 0:\n",
    "            #If factor, add it to the list\n",
    "            factors.append(i)\n",
    "    \n",
    "    # Print the list of factors\n",
    "    print(factors)\n",
    "    \n",
    "factors(10)\n",
    "\n"
   ]
  },
  {
   "cell_type": "code",
   "execution_count": 9,
   "id": "6a7b5aa1-0dbb-462a-8bc6-c093687e9b63",
   "metadata": {},
   "outputs": [
    {
     "name": "stdout",
     "output_type": "stream",
     "text": [
      "Number is not prime\n",
      "It's prime\n",
      "Enter a number greater than 1\n"
     ]
    }
   ],
   "source": [
    "\"\"\"\n",
    "Write and test a function that determines if a given integer is a prime number. A\n",
    "prime number is an integer greater than 1 that cannot be produced by multiplying\n",
    "two other integers\n",
    "\"\"\"\n",
    "def prime(num):\n",
    "    # Check if less than or equal to 1 \n",
    "    if num <= 1:\n",
    "        print(\"Enter a number greater than 1\")\n",
    "    else:\n",
    "        # Check if the number is divisible by any number between 2 and num-1\n",
    "        for i in range(2, num):\n",
    "            if num % i == 0:  \n",
    "                print(\"Number is not prime\")\n",
    "                break  \n",
    "        else:\n",
    "            print(\"It's prime\")  \n",
    "            \n",
    "prime(14)\n",
    "prime(3)\n",
    "prime(1)"
   ]
  },
  {
   "cell_type": "code",
   "execution_count": 11,
   "id": "958711ac-38f3-4b56-a9ed-a1df0ed90c73",
   "metadata": {},
   "outputs": [
    {
     "name": "stdout",
     "output_type": "stream",
     "text": [
      "egelloChsitirBehT\n"
     ]
    }
   ],
   "source": [
    "\"\"\"\n",
    "Computers are commonly used in encryption. A very simple form of encryption\n",
    "(more accurately \"obfuscation\") would be to remove the spaces from a message\n",
    "and reverse the resulting string. Write, and test, a function that takes a string\n",
    "containing a message and \"encrypts\" it in this way.\n",
    "\"\"\"\n",
    "def encrypt(message):\n",
    "    # remove space and reverse\n",
    "    encrypted = message.replace(\" \", \"\")[::-1]\n",
    "    return encrypted\n",
    "\n",
    "print(encrypt(\"The British College\"))\n",
    "\n"
   ]
  },
  {
   "cell_type": "code",
   "execution_count": null,
   "id": "7fea5b8f-3817-4683-9f27-c1c844711f87",
   "metadata": {},
   "outputs": [],
   "source": [
    "\"\"\"\n",
    "Another way to hide a message is to include the letters that make it up within\n",
    "seemingly random text. The letters of the message might be every fih character,\n",
    "for example. Write and test a function that does such encryption. It should\n",
    "randomly generate an interval (between 2 and 20), space the message out\n",
    "accordingly, and should fill the gaps with random letters. The function should\n",
    "return the encrypted message and the interval used.\n",
    "For example, if the message is \"send cheese\", the random interval is 2, and for\n",
    "clarity the random letters are not random:\n",
    "send cheese\n",
    "s e n d c h e e s e\n",
    "sxyexynxydxy cxyhxyexyexysxye\n",
    "\"\"\""
   ]
  },
  {
   "cell_type": "code",
   "execution_count": null,
   "id": "bed241b9-54b7-40b6-80b3-14e9a48a1cc1",
   "metadata": {},
   "outputs": [],
   "source": [
    "\"\"\"\n",
    "Write a program that decrypts messages encoded as above.\n",
    "\"\"\""
   ]
  }
 ],
 "metadata": {
  "kernelspec": {
   "display_name": "Python 3 (ipykernel)",
   "language": "python",
   "name": "python3"
  },
  "language_info": {
   "codemirror_mode": {
    "name": "ipython",
    "version": 3
   },
   "file_extension": ".py",
   "mimetype": "text/x-python",
   "name": "python",
   "nbconvert_exporter": "python",
   "pygments_lexer": "ipython3",
   "version": "3.12.3"
  }
 },
 "nbformat": 4,
 "nbformat_minor": 5
}
