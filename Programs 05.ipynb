{
 "cells": [
  {
   "cell_type": "code",
   "execution_count": 1,
   "id": "038a9904-57f1-4b56-be6e-14a5cfd734b0",
   "metadata": {},
   "outputs": [
    {
     "name": "stdout",
     "output_type": "stream",
     "text": [
      "The operating system platform is: win32\n"
     ]
    }
   ],
   "source": [
    "\"\"\"\n",
    "Using command-line arguments involves the sys module. Review the docs for this\n",
    "module and using the information in there write a short program that when run\n",
    "from the command-line reports what operating system platform is being used.\n",
    "\"\"\"\n",
    "import sys\n",
    "\n",
    "# Report the OS platform\n",
    "print(f\"The operating system platform is: {sys.platform}\")\n"
   ]
  },
  {
   "cell_type": "code",
   "execution_count": 2,
   "id": "4f413256-8cc1-481b-b3e6-65f545b1a92c",
   "metadata": {},
   "outputs": [
    {
     "name": "stdout",
     "output_type": "stream",
     "text": [
      "Number of arguments provided: 2\n"
     ]
    }
   ],
   "source": [
    "\"\"\"\n",
    "Write a program that, when run from the command line, reports how many\n",
    "arguments were provided. (Remember that the program name itself is not an\n",
    "argument).\n",
    "\"\"\"\n",
    "import sys\n",
    "\n",
    "# Calculate the number of command-line arguments\n",
    "num_arguments = len(sys.argv) - 1\n",
    "\n",
    "# Report the result\n",
    "print(f\"Number of arguments provided: {num_arguments}\")\n"
   ]
  },
  {
   "cell_type": "code",
   "execution_count": 3,
   "id": "78317bb8-c5ad-48b1-9dd2-27a02a4d0ce4",
   "metadata": {},
   "outputs": [
    {
     "name": "stdout",
     "output_type": "stream",
     "text": [
      "Shortest argument is: -f\n"
     ]
    }
   ],
   "source": [
    "\"\"\"\n",
    "Write a program that takes a bunch of command-line arguments, and then prints\n",
    "out the shortest. If there is more than one of the shortest length, any will do.\n",
    "Hint: Don't overthink this. A good way to find the shortest is just to sort them\n",
    "\"\"\"\n",
    "import sys  \n",
    "\n",
    "# Get all command-line arguments\n",
    "arg = sys.argv[1:]  \n",
    "\n",
    "# Find the shortest argument by length\n",
    "arg_sort = min(arg, key=len)  \n",
    "\n",
    "# Print the shortest argument\n",
    "print(f'Shortest argument is: {arg_sort}')  \n"
   ]
  },
  {
   "cell_type": "code",
   "execution_count": 7,
   "id": "f97b2ead-1294-4f1f-a68f-92faf0353e03",
   "metadata": {},
   "outputs": [
    {
     "name": "stdout",
     "output_type": "stream",
     "text": [
      "Could not connect to the website at -f.\n"
     ]
    }
   ],
   "source": [
    "\"\"\"\n",
    "Write a program that takes a URL as a command-line argument and reports\n",
    "whether or not there is a working website at that address.\n",
    "Hint: You need to get the HTTP response code.\n",
    "Another Hint: StackOverflow is your friend.\n",
    "\"\"\"\n",
    "\n",
    "import requests  # For making HTTP requests\n",
    "import sys  # For accessing command-line arguments\n",
    "\n",
    "# Get the URL from the command-line argument\n",
    "url = sys.argv[1]\n",
    "\n",
    "try:\n",
    "    # Send a GET request to the URL with a timeout of 5 seconds\n",
    "    response = requests.get(url, timeout=5)\n",
    "\n",
    "    # Check if the status code is 200 (OK)\n",
    "    if response.status_code == 200:\n",
    "        print(f\"The website at {url} is working.\")\n",
    "    else:\n",
    "        print(f\"The website at {url} is not working. Status code: {response.status_code}\")\n",
    "\n",
    "except requests.RequestException:\n",
    "    # Handle any exception that occurs during the request\n",
    "    print(f\"Could not connect to the website at {url}.\")\n"
   ]
  },
  {
   "cell_type": "code",
   "execution_count": 12,
   "id": "b96c4699-ca82-4c71-be6a-d425bf3a6c50",
   "metadata": {},
   "outputs": [
    {
     "name": "stdout",
     "output_type": "stream",
     "text": [
      "Please provide valid numeric temperature readings.\n"
     ]
    }
   ],
   "source": [
    "\"\"\"\n",
    "Last week you wrote a program that processed a collection of temperature readings\n",
    "entered by the user and displayed the maximum, minimum, and mean. Create a\n",
    "version of that program that takes the values from the command-line instead. Be\n",
    "sure to handle the case where no arguments are provided!\n",
    "\"\"\"\n",
    "import sys \n",
    "\n",
    "# Check if there are any command-line arguments\n",
    "if len(sys.argv) > 1:\n",
    "    try:\n",
    "        # Convert each command-line argument\n",
    "        temperatures = [float(arg) for arg in sys.argv[1:]]\n",
    "\n",
    "        # Calculate the maximum, minimum, and mean temp.\n",
    "        maximum = max(temperatures)\n",
    "        minimum = min(temperatures)\n",
    "        mean = sum(temperatures) / len(temperatures)\n",
    "\n",
    "        # Display the results\n",
    "        print(f\"Maximum temperature: {maximum}\")\n",
    "        print(f\"Minimum temperature: {minimum}\")\n",
    "        print(f\"Mean temperature: {mean}\")\n",
    "    except ValueError:\n",
    "        print(\"Please provide valid numeric temperature readings.\")\n",
    "else:\n",
    "    print(\"No temperature readings provided.\")\n"
   ]
  },
  {
   "cell_type": "code",
   "execution_count": null,
   "id": "fd4a0287-76ff-4c17-afd1-3eb8d03247ba",
   "metadata": {},
   "outputs": [],
   "source": [
    "\"\"\"\n",
    "Write a program that takes the name of a file as a command-line argument, and\n",
    "creates a backup copy of that file. The backup should contain an exact copy of the\n",
    "contents of the original and should, obviously, have a dierent name.\n",
    "Hint: By now, you should be getting the idea that there is a built-in way to do the\n",
    "heavy liing here! Take a look at the \"Brief Tour of the Standard Library\" in the docs.\n",
    "\"\"\""
   ]
  }
 ],
 "metadata": {
  "kernelspec": {
   "display_name": "Python 3 (ipykernel)",
   "language": "python",
   "name": "python3"
  },
  "language_info": {
   "codemirror_mode": {
    "name": "ipython",
    "version": 3
   },
   "file_extension": ".py",
   "mimetype": "text/x-python",
   "name": "python",
   "nbconvert_exporter": "python",
   "pygments_lexer": "ipython3",
   "version": "3.12.3"
  }
 },
 "nbformat": 4,
 "nbformat_minor": 5
}
