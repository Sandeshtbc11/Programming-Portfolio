{
 "cells": [
  {
   "cell_type": "code",
   "execution_count": 3,
   "id": "cae66e44-d085-4598-a22d-dc7cde749b53",
   "metadata": {},
   "outputs": [
    {
     "data": {
      "text/plain": [
       "['c', 'e', 'h', 's']"
      ]
     },
     "execution_count": 3,
     "metadata": {},
     "output_type": "execute_result"
    }
   ],
   "source": [
    "\"\"\"\n",
    "Write and test a function that takes a string as a parameter and returns a sorted list\n",
    "of all the unique letters used in the string. So, if the string is cheese, the list\n",
    "returned should be ['c', 'e', 'h', 's'].\n",
    "\"\"\"\n",
    "def unique(s):\n",
    "    return sorted(set(s))\n",
    "\n",
    "# Testing the func\n",
    "test_string = \"cheese\"\n",
    "unique(test_string)\n"
   ]
  },
  {
   "cell_type": "code",
   "execution_count": 5,
   "id": "0b06930c-f850-424b-a93c-4626fd891b2b",
   "metadata": {},
   "outputs": [
    {
     "data": {
      "text/plain": [
       "(['a', 'c', 'd', 'e', 'h', 'n', 's'], ['e', 'h', 's'], ['a', 'c', 'd', 'n'])"
      ]
     },
     "execution_count": 5,
     "metadata": {},
     "output_type": "execute_result"
    }
   ],
   "source": [
    "\"\"\"\n",
    "Write and test three functions that each take two words (strings) as parameters and\n",
    "return sorted lists (as defined above) representing respectively:\n",
    "Letters that appear in at least one of the two words.\n",
    "Letters that appear in both words.\n",
    "Letters that appear in either word, but not in both.\n",
    "Hint: These could all be done programmatically, but consider carefully what topic we\n",
    "have been discussing this week! Each function can be exactly one line\n",
    "\"\"\"\n",
    "def letters_one(word1, word2):\n",
    "    return sorted(set(word1) | set(word2))\n",
    "\n",
    "def letters_both(word1, word2):\n",
    "    return sorted(set(word1) & set(word2))\n",
    "\n",
    "def letters_not(word1, word2):\n",
    "    return sorted(set(word1) ^ set(word2))\n",
    "\n",
    "# Testing the func\n",
    "word1 = \"cheese\"\n",
    "word2 = \"sandesh\"\n",
    "\n",
    "result1 = letters_one(word1, word2)\n",
    "result2 = letters_both(word1, word2)\n",
    "result3 = letters_not(word1, word2)\n",
    "\n",
    "result1, result2, result3\n"
   ]
  },
  {
   "cell_type": "code",
   "execution_count": 9,
   "id": "b0e08b7a-3e4f-4098-baa2-d13e6d807deb",
   "metadata": {},
   "outputs": [
    {
     "name": "stdin",
     "output_type": "stream",
     "text": [
      "Enter the name of a country (or type 'exit' to quit):  wales\n",
      "I don't know the capital of Wales. Please enter it:  cardiff\n"
     ]
    },
    {
     "name": "stdout",
     "output_type": "stream",
     "text": [
      "The capital of Wales is Cardiff.\n"
     ]
    },
    {
     "name": "stdin",
     "output_type": "stream",
     "text": [
      "Enter the name of a country (or type 'exit' to quit):  exit\n"
     ]
    },
    {
     "name": "stdout",
     "output_type": "stream",
     "text": [
      "Exiting the program.\n"
     ]
    }
   ],
   "source": [
    "\"\"\"\n",
    "Write a program that manages a list of countries and their capital cities. It should\n",
    "prompt the user to enter the name of a country. If the program already \"knows\"\n",
    "the name of the capital city, it should display it. Otherwise it should ask the user to\n",
    "enter it. This should carry on until the user terminates the program (how this\n",
    "happens is up to you).\n",
    "Note: A good solution to this task will be able to cope with the country being entered\n",
    "variously as, for example, \"Wales\", \"wales\", \"WALES\" and so on.\n",
    "\"\"\"\n",
    "#dictionary to store countries and capitals\n",
    "countries_capitals = {}\n",
    "\n",
    "def manage_countries_and_capitals():\n",
    "    while True:\n",
    "        country = input(\"Enter the name of a country (or type 'exit' to quit): \").lower()\n",
    "        \n",
    "        if country == 'exit':\n",
    "            print(\"Exiting the program.\")\n",
    "            break\n",
    "        \n",
    "        if country in countries_capitals:\n",
    "            print(f\"The capital of {country.capitalize()} is {countries_capitals[country].capitalize()}.\")\n",
    "        else:\n",
    "            capital = input(f\"I don't know the capital of {country.capitalize()}. Please enter it: \")\n",
    "            countries_capitals[country] = capital\n",
    "            print(f\"The capital of {country.capitalize()} is {capital.capitalize()}.\")\n",
    "\n",
    "manage_countries_and_capitals()"
   ]
  },
  {
   "cell_type": "code",
   "execution_count": null,
   "id": "073a7984-7c3d-4e1a-bcbf-f24cf56428ca",
   "metadata": {},
   "outputs": [],
   "source": [
    "\"\"\"\n",
    "One approach to analysing some encrypted data where a substitution is suspected\n",
    "is frequency analysis. A count of the dierent symbols in the message can be used\n",
    "to identify the language used, and sometimes some of the letters. In English, the\n",
    "most common letter is \"e\", and so the symbol representing \"e\" should appear most\n",
    "in the encrypted text.\n",
    "Write a program that processes a string representing a message and reports the six\n",
    "most common letters, along with the number of times they appear. Case should\n",
    "not matter, so \"E\" and \"e\" are considered the same.\n",
    "Hint: There are many ways to do this. It is obviously a dictionary, but we will want\n",
    "zero counts, so some initialisation is needed. Also, sorting dictionaries is tricky, so\n",
    "best to ignore that initially, and then check the usual resources for the runes.\n",
    "\"\"\""
   ]
  }
 ],
 "metadata": {
  "kernelspec": {
   "display_name": "Python 3 (ipykernel)",
   "language": "python",
   "name": "python3"
  },
  "language_info": {
   "codemirror_mode": {
    "name": "ipython",
    "version": 3
   },
   "file_extension": ".py",
   "mimetype": "text/x-python",
   "name": "python",
   "nbconvert_exporter": "python",
   "pygments_lexer": "ipython3",
   "version": "3.12.3"
  }
 },
 "nbformat": 4,
 "nbformat_minor": 5
}
