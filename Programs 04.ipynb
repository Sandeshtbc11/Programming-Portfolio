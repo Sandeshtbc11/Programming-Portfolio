{
 "cells": [
  {
   "cell_type": "code",
   "execution_count": 3,
   "id": "9f508f76-19b1-44a8-b56b-2ba53a01b542",
   "metadata": {},
   "outputs": [
    {
     "name": "stdin",
     "output_type": "stream",
     "text": [
      "Enter a number:  47\n"
     ]
    },
    {
     "name": "stdout",
     "output_type": "stream",
     "text": [
      "47 is in the valid range (0 to 100).\n"
     ]
    }
   ],
   "source": [
    "\"\"\"\n",
    "Functions are oen used to validate input. Write a function that accepts a single\n",
    "integer as a parameter and returns True if the integer is in the range 0 to 100\n",
    "(inclusive), or False otherwise. Write a short program to test the function.\n",
    "\"\"\"\n",
    "# Function to check if the number is in the range 0 to 100\n",
    "def is_valid_number(number):\n",
    "    return 0 <= number <= 100\n",
    "\n",
    "# Test the function\n",
    "number = int(input(\"Enter a number: \"))\n",
    "if is_valid_number(number):\n",
    "    print(f\"{number} is in the valid range (0 to 100).\")\n",
    "else:\n",
    "    print(f\"{number} is out of the valid range (0 to 100).\")\n"
   ]
  },
  {
   "cell_type": "code",
   "execution_count": 4,
   "id": "c6d22b7d-dfb2-4262-926a-38ab60c7911b",
   "metadata": {},
   "outputs": [
    {
     "name": "stdin",
     "output_type": "stream",
     "text": [
      "Enter a string:  Sandesh\n"
     ]
    },
    {
     "name": "stdout",
     "output_type": "stream",
     "text": [
      "Uppercase letters: 1\n",
      "Lowercase letters: 6\n"
     ]
    }
   ],
   "source": [
    "\"\"\"\n",
    "Write a function that has a single string as its parameter, and returns the number of\n",
    "uppercase letters, and the number of lowercase letters in the string. Test the\n",
    "function with a short program.\n",
    "\"\"\"\n",
    "# Function to count uppercase and lowercase \n",
    "def count_case(s):\n",
    "    uppercase_count = 0\n",
    "    lowercase_count = 0\n",
    "    \n",
    "    for char in s:\n",
    "        if char.isupper():\n",
    "            uppercase_count += 1\n",
    "        elif char.islower():\n",
    "            lowercase_count += 1\n",
    "    \n",
    "    return uppercase_count, lowercase_count\n",
    "\n",
    "# Test the function\n",
    "input_string = input(\"Enter a string: \")\n",
    "uppercase, lowercase = count_case(input_string)\n",
    "\n",
    "print(f\"Uppercase letters: {uppercase}\")\n",
    "print(f\"Lowercase letters: {lowercase}\")\n"
   ]
  },
  {
   "cell_type": "code",
   "execution_count": 5,
   "id": "f4a811d5-f6bc-44ba-8664-d4ddd023cd35",
   "metadata": {},
   "outputs": [
    {
     "name": "stdin",
     "output_type": "stream",
     "text": [
      "What is your name?  SaNDESh\n"
     ]
    },
    {
     "name": "stdout",
     "output_type": "stream",
     "text": [
      "Hello, Sandesh. Good to meet you!\n"
     ]
    }
   ],
   "source": [
    "\"\"\"\n",
    "Modify your \"greetings\" program so that the first letter of the name entered is\n",
    "always in uppercase with the rest in lowercase. This should happen even if the user\n",
    "entered their name dierently. So if the user entered arthur, ARTHUR, or even\n",
    "arTHur the name should be displayed as Arthur.\n",
    "\"\"\"\n",
    "# Ask the user to enter their name\n",
    "name = input(\"What is your name? \")\n",
    "\n",
    "# Check if the name is not empty\n",
    "if name:\n",
    "    # Format the name with the first letter uppercase and the rest lowercase\n",
    "    formatted_name = name[0].upper() + name[1:].lower()\n",
    "else:\n",
    "    formatted_name = \"Stranger\"\n",
    "\n",
    "# Display the greeting\n",
    "print(\"Hello, \" + formatted_name + \". Good to meet you!\")\n"
   ]
  },
  {
   "cell_type": "code",
   "execution_count": 8,
   "id": "636daa25-3701-417e-ae01-550c7795bead",
   "metadata": {},
   "outputs": [
    {
     "name": "stdin",
     "output_type": "stream",
     "text": [
      "Enter a string:  Sandesh\n"
     ]
    },
    {
     "name": "stdout",
     "output_type": "stream",
     "text": [
      "Modified string: Sandes\n"
     ]
    }
   ],
   "source": [
    "\"\"\"\n",
    "When processing data it is oen useful to remove the last character from some\n",
    "input (it is oen a newline). Write and test a function that takes a string parameter\n",
    "and returns it with the last character removed. (If the string contains one or fewer\n",
    "characters, return it unchanged.)\n",
    "\"\"\"\n",
    "# Function to remove the last character of the string using slicing\n",
    "def remove_last_char(s):\n",
    "    return s[:-1] if len(s) > 1 else s\n",
    "\n",
    "# Test the function\n",
    "input_string = input(\"Enter a string: \")\n",
    "print(\"Modified string:\", remove_last_char(input_string))\n"
   ]
  },
  {
   "cell_type": "code",
   "execution_count": 9,
   "id": "81ec293e-6b54-4385-ba21-832ad2b43858",
   "metadata": {},
   "outputs": [
    {
     "name": "stdin",
     "output_type": "stream",
     "text": [
      "Enter temperature in Celsius:  32.5\n"
     ]
    },
    {
     "name": "stdout",
     "output_type": "stream",
     "text": [
      "32.5°C is equivalent to 90.5°F\n"
     ]
    },
    {
     "name": "stdin",
     "output_type": "stream",
     "text": [
      "Enter temperature in Fahrenheit:  90.5\n"
     ]
    },
    {
     "name": "stdout",
     "output_type": "stream",
     "text": [
      "90.5°F is equivalent to 32.5°C\n"
     ]
    }
   ],
   "source": [
    "\"\"\"\"\n",
    "Write and test a function that converts a temperature measured in degrees\n",
    "centigrade into the equivalent in fahrenheit, and another that does the reverse\n",
    "conversion. Test both functions. (Google will find you the formulae).\n",
    "\"\"\"\n",
    "# Function to convert Celsius to Fahrenheit\n",
    "def celsius_to_fahrenheit(celsius):\n",
    "    return (celsius * 9/5) + 32\n",
    "\n",
    "# Function to convert Fahrenheit to Celsius\n",
    "def fahrenheit_to_celsius(fahrenheit):\n",
    "    return (fahrenheit - 32) * 5/9\n",
    "\n",
    "# Test the functions\n",
    "celsius = float(input(\"Enter temperature in Celsius: \"))\n",
    "fahrenheit = celsius_to_fahrenheit(celsius)\n",
    "print(f\"{celsius}°C is equivalent to {fahrenheit}°F\")\n",
    "\n",
    "fahrenheit_input = float(input(\"Enter temperature in Fahrenheit: \"))\n",
    "celsius_result = fahrenheit_to_celsius(fahrenheit_input)\n",
    "print(f\"{fahrenheit_input}°F is equivalent to {celsius_result}°C\")\n"
   ]
  },
  {
   "cell_type": "code",
   "execution_count": 12,
   "id": "f08f228e-3540-4898-8df2-bfd7b073aa9b",
   "metadata": {},
   "outputs": [
    {
     "name": "stdin",
     "output_type": "stream",
     "text": [
      "Enter temperature in Celsius (e.g., 25C):  30c\n"
     ]
    },
    {
     "name": "stdout",
     "output_type": "stream",
     "text": [
      "86.0F\n"
     ]
    }
   ],
   "source": [
    "\"\"\"\n",
    "Write a program that takes a centigrade temperature and displays the equivalent in\n",
    "fahrenheit. The input should be a number followed by a letter C. The output should\n",
    "be in the same format.\n",
    "\"\"\"\n",
    "# Function to convert Celsius to Fahrenheit\n",
    "def celsius_to_fahrenheit(celsius):\n",
    "    return (celsius * 9/5) + 32\n",
    "\n",
    "# Ask the user to input a temperature in Celsius\n",
    "input_temp = input(\"Enter temperature in Celsius (e.g., 25C): \")\n",
    "\n",
    "# Check if the input ends with 'C' and contains a valid number\n",
    "if input_temp[-1] == \"C\" or input_temp[-1] == \"c\":\n",
    "    number_part = input_temp[:-1]\n",
    "    if number_part.replace(\".\", \"\", 1).isdigit():\n",
    "        celsius = float(number_part)\n",
    "        fahrenheit = celsius_to_fahrenheit(celsius)\n",
    "        print(f\"{fahrenheit}F\")\n",
    "    else:\n",
    "        print(\"Invalid input. Please enter a number followed by 'C'.\")\n",
    "else:\n",
    "    print(\"Invalid input. Please enter a number followed by 'C'.\")\n",
    "\n"
   ]
  },
  {
   "cell_type": "code",
   "execution_count": 14,
   "id": "ec447c8c-651a-4996-acf0-540827217eb6",
   "metadata": {},
   "outputs": [
    {
     "name": "stdin",
     "output_type": "stream",
     "text": [
      "Enter temperature 1:  50\n",
      "Enter temperature 2:  60\n",
      "Enter temperature 3:  70\n",
      "Enter temperature 4:  80\n",
      "Enter temperature 5:  90\n",
      "Enter temperature 6:  20\n"
     ]
    },
    {
     "name": "stdout",
     "output_type": "stream",
     "text": [
      "Maximum temperature: 90.0\n",
      "Minimum temperature: 20.0\n",
      "Mean temperature: 61.666666666666664\n"
     ]
    }
   ],
   "source": [
    "\"\"\"\n",
    "Write a program that reads 6 temperatures (in the same format as before), and\n",
    "displays the maximum, minimum, and mean of the values.\n",
    "Hint: You should know there are built-in functions for max and min. If you hunt, you\n",
    "might also find one for the mean.\n",
    "\"\"\"\n",
    "# Ask the user for 6 temperatures\n",
    "temp1 = float(input(\"Enter temperature 1: \"))\n",
    "temp2 = float(input(\"Enter temperature 2: \"))\n",
    "temp3 = float(input(\"Enter temperature 3: \"))\n",
    "temp4 = float(input(\"Enter temperature 4: \"))\n",
    "temp5 = float(input(\"Enter temperature 5: \"))\n",
    "temp6 = float(input(\"Enter temperature 6: \"))\n",
    "\n",
    "# Store the temperatures in a list\n",
    "temperatures = [temp1, temp2, temp3, temp4, temp5, temp6]\n",
    "\n",
    "# Calculate the maximum, minimum, and mean\n",
    "max_temp = max(temperatures)\n",
    "min_temp = min(temperatures)\n",
    "mean_temp = sum(temperatures) / len(temperatures)\n",
    "\n",
    "# Display the results\n",
    "print(f\"Maximum temperature: {max_temp}\")\n",
    "print(f\"Minimum temperature: {min_temp}\")\n",
    "print(f\"Mean temperature: {mean_temp}\")\n"
   ]
  },
  {
   "cell_type": "code",
   "execution_count": 17,
   "id": "8479ebfe-8490-4f56-bea3-09a4507a352a",
   "metadata": {},
   "outputs": [
    {
     "name": "stdin",
     "output_type": "stream",
     "text": [
      "Enter a temperature (or press Enter to finish):  10\n",
      "Enter a temperature (or press Enter to finish):  20\n",
      "Enter a temperature (or press Enter to finish):  30\n",
      "Enter a temperature (or press Enter to finish):  40\n",
      "Enter a temperature (or press Enter to finish):  50\n",
      "Enter a temperature (or press Enter to finish):  60\n",
      "Enter a temperature (or press Enter to finish):  70\n",
      "Enter a temperature (or press Enter to finish):  80\n",
      "Enter a temperature (or press Enter to finish):  90\n",
      "Enter a temperature (or press Enter to finish):  \n"
     ]
    },
    {
     "name": "stdout",
     "output_type": "stream",
     "text": [
      "Maximum temperature: 90.0\n",
      "Minimum temperature: 10.0\n",
      "Mean temperature: 50.0\n"
     ]
    }
   ],
   "source": [
    "\"\"\"\n",
    "Modify the previous program so that it can process any number of values. The input\n",
    "terminates when the user just pressed \"Enter\" at the prompt rather than entering a\n",
    "value.\n",
    "\"\"\"\n",
    "# Initialize an empty list to store the temperatures\n",
    "temperatures = []\n",
    "\n",
    "# Ask the user to enter temperatures\n",
    "while True:\n",
    "    # Ask for the temperature input\n",
    "    temp = input(\"Enter a temperature (or press Enter to finish): \")\n",
    "    \n",
    "    # Break the loop \n",
    "    if temp == \"\":\n",
    "        break\n",
    "    \n",
    "    # Convert the input to a float and add it to the list\n",
    "    temperatures.append(float(temp))\n",
    "\n",
    "# Check if there are any temperatures entered\n",
    "if temperatures:\n",
    "    # Calculate the maximum, minimum, and mean\n",
    "    max_temp = max(temperatures)\n",
    "    min_temp = min(temperatures)\n",
    "    mean_temp = sum(temperatures) / len(temperatures)\n",
    "\n",
    "    # Display the results\n",
    "    print(f\"Maximum temperature: {max_temp}\")\n",
    "    print(f\"Minimum temperature: {min_temp}\")\n",
    "    print(f\"Mean temperature: {mean_temp}\")\n",
    "else:\n",
    "    print(\"No temperatures were entered.\")\n"
   ]
  },
  {
   "cell_type": "code",
   "execution_count": null,
   "id": "235c3e28-4e8f-4728-8660-ba582e094c25",
   "metadata": {},
   "outputs": [],
   "source": []
  }
 ],
 "metadata": {
  "kernelspec": {
   "display_name": "Python 3 (ipykernel)",
   "language": "python",
   "name": "python3"
  },
  "language_info": {
   "codemirror_mode": {
    "name": "ipython",
    "version": 3
   },
   "file_extension": ".py",
   "mimetype": "text/x-python",
   "name": "python",
   "nbconvert_exporter": "python",
   "pygments_lexer": "ipython3",
   "version": "3.12.3"
  }
 },
 "nbformat": 4,
 "nbformat_minor": 5
}
