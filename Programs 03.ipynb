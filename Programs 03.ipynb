{
 "cells": [
  {
   "cell_type": "code",
   "execution_count": 1,
   "id": "08818477-b7a8-4307-b93e-d9b38d0585f8",
   "metadata": {},
   "outputs": [
    {
     "name": "stdin",
     "output_type": "stream",
     "text": [
      "Hello, what is your name?  \n"
     ]
    },
    {
     "name": "stdout",
     "output_type": "stream",
     "text": [
      "Hello, Stranger!\n"
     ]
    }
   ],
   "source": [
    "\"\"\"\n",
    "Modify your greeting program so that if the user does not enter a name (i.e. they\n",
    "just press enter), the program responds \"Hello, Stranger!\". Otherwise it should print\n",
    "a greeting with their name as before\n",
    "\"\"\"\n",
    "# Asking the user for their name\n",
    "name = input(\"Hello, what is your name? \")\n",
    "\n",
    "# Check if the user entered a name or just pressed Enter\n",
    "if name == \"\":\n",
    "    print(\"Hello, Stranger!\")\n",
    "else:\n",
    "    print(f\"Hello, {name}. Good to meet you!\")\n"
   ]
  },
  {
   "cell_type": "code",
   "execution_count": 4,
   "id": "fe15bf32-9824-4e7d-be31-90c848f1c027",
   "metadata": {},
   "outputs": [
    {
     "name": "stdin",
     "output_type": "stream",
     "text": [
      "Enter a new password:  sandesh\n",
      "Re-enter the password:  basnet\n"
     ]
    },
    {
     "name": "stdout",
     "output_type": "stream",
     "text": [
      "Error: Passwords do not match. Please try again.\n"
     ]
    }
   ],
   "source": [
    "\"\"\"\n",
    "Write a program that simulates the way in which a user might choose a password.\n",
    "The program should prompt for a new password, and then prompt again. If the two\n",
    "passwords entered are the same the program should say \"Password Set\" or\n",
    "similar, otherwise it should report an error.\n",
    "\"\"\"\n",
    "# Ask the user to enter a new password\n",
    "password1 = input(\"Enter a new password: \")\n",
    "\n",
    "# Ask the user to re-enter the password\n",
    "password2 = input(\"Re-enter the password: \")\n",
    "\n",
    "# Check if the passwords match\n",
    "if password1 == password2:\n",
    "    print(\"Password Set\")\n",
    "else:\n",
    "    print(\"Error: Passwords do not match. Please try again.\")\n"
   ]
  },
  {
   "cell_type": "code",
   "execution_count": 6,
   "id": "872e92ae-9921-41e5-86ac-4309e1d42139",
   "metadata": {},
   "outputs": [
    {
     "name": "stdin",
     "output_type": "stream",
     "text": [
      "Enter a password (8-12 characters):  sandesh\n"
     ]
    },
    {
     "name": "stdout",
     "output_type": "stream",
     "text": [
      "Error: Password must be between 8 and 12 characters.\n"
     ]
    }
   ],
   "source": [
    "\"\"\"\n",
    "Modify your previous program so that the password must be between 8 and 12\n",
    "characters (inclusive) long.\n",
    "\"\"\"\n",
    "# Ask the user to enter password\n",
    "password1 = input(\"Enter a password (8-12 characters): \")\n",
    "\n",
    "# Check if the password length is valid\n",
    "if len(password1) < 8 or len(password1) > 12:\n",
    "    print(\"Error: Password must be between 8 and 12 characters.\")\n",
    "else:\n",
    "    # Prompt the user to re-enter the password\n",
    "    password2 = input(\"Re-enter the password: \")\n",
    "\n",
    "    # Check if the two passwords match\n",
    "    if password1 == password2:\n",
    "        print(\"Password Set\")\n",
    "    else:\n",
    "        print(\"Error: Passwords do not match. Please try again.\")\n"
   ]
  },
  {
   "cell_type": "code",
   "execution_count": 19,
   "id": "966141d7-897c-4c66-b490-9582786094b5",
   "metadata": {},
   "outputs": [
    {
     "name": "stdin",
     "output_type": "stream",
     "text": [
      "Enter a new password (8-12 characters):  password\n"
     ]
    },
    {
     "name": "stdout",
     "output_type": "stream",
     "text": [
      "Error: BAD PASSWORD\n"
     ]
    }
   ],
   "source": [
    "\"\"\"\n",
    "Modify your program again so that the chosen password cannot be one of a list of\n",
    "common passwords, defined thus:\n",
    "BAD_PASSWORDS = ['password', 'letmein', 'sesame', 'hello', 'justinbieber']\n",
    "\"\"\"\n",
    "# Define the list of common bad passwords\n",
    "BAD_PASSWORDS = ['password', 'letmein', 'sesame', 'hello', 'justinbieber']\n",
    "\n",
    "# Ask the user to enter a new password\n",
    "password1 = input(\"Enter a new password (8-12 characters): \")\n",
    "\n",
    "# Check if the password length is valid\n",
    "if len(password1) < 8 or len(password1) > 12:\n",
    "    print(\"Error: Password must be between 8 and 12 characters.\")\n",
    "elif password1 in BAD_PASSWORDS:\n",
    "    print(\"Error: BAD PASSWORD\")\n",
    "else:\n",
    "    # Ask the user to re-enter the password\n",
    "    password2 = input(\"Re-enter the password: \")\n",
    "\n",
    "    # Check if the two passwords match\n",
    "    if password1 == password2:\n",
    "        print(\"Password Set\")\n",
    "    else:\n",
    "        print(\"Error: Passwords do not match. Please try again.\")\n"
   ]
  },
  {
   "cell_type": "code",
   "execution_count": 22,
   "id": "b6fc2b9b-549d-4e78-a18e-01fb19e6dfc9",
   "metadata": {},
   "outputs": [
    {
     "name": "stdin",
     "output_type": "stream",
     "text": [
      "Enter a new password (8-12 characters):  Sandesh\n"
     ]
    },
    {
     "name": "stdout",
     "output_type": "stream",
     "text": [
      "Error: Password must be between 8 and 12 characters.\n"
     ]
    },
    {
     "name": "stdin",
     "output_type": "stream",
     "text": [
      "Enter a new password (8-12 characters):  password\n"
     ]
    },
    {
     "name": "stdout",
     "output_type": "stream",
     "text": [
      "Error: BAD PASSWORD\n"
     ]
    },
    {
     "name": "stdin",
     "output_type": "stream",
     "text": [
      "Enter a new password (8-12 characters):  earthshaking\n",
      "Re-enter the password:  earthshaking\n"
     ]
    },
    {
     "name": "stdout",
     "output_type": "stream",
     "text": [
      "Password Set\n"
     ]
    }
   ],
   "source": [
    "\"\"\"\n",
    "Modify your program a final time so that it executes until the user successfully\n",
    "chooses a password. That is, if the password chosen fails any of the checks, the\n",
    "program should return to asking for the password the first time.\n",
    "\"\"\"\n",
    "# Define the list of common bad passwords\n",
    "BAD_PASSWORDS = ['password', 'letmein', 'sesame', 'hello', 'justinbieber']\n",
    "\n",
    "while True:\n",
    "    # Ask the user to enter a new password\n",
    "    password1 = input(\"Enter a new password (8-12 characters): \")\n",
    "\n",
    "    # Check if the password length is valid\n",
    "    if len(password1) < 8 or len(password1) > 12:\n",
    "        print(\"Error: Password must be between 8 and 12 characters.\")\n",
    "    elif password1 in BAD_PASSWORDS:\n",
    "        print(\"Error: BAD PASSWORD\")\n",
    "    else:\n",
    "        # Prompt the user to re-enter the password\n",
    "        password2 = input(\"Re-enter the password: \")\n",
    "\n",
    "        # Check if the two passwords match\n",
    "        if password1 == password2:\n",
    "            print(\"Password Set\")\n",
    "            break  # Exit the loop if the password is set successfully\n",
    "        else:\n",
    "            print(\"Error: Passwords do not match. Please try again.\")\n"
   ]
  },
  {
   "cell_type": "code",
   "execution_count": 23,
   "id": "b591d6f3-86b6-4b47-b81e-9ce9c862362f",
   "metadata": {},
   "outputs": [
    {
     "name": "stdout",
     "output_type": "stream",
     "text": [
      "0 x 7 = 0\n",
      "1 x 7 = 7\n",
      "2 x 7 = 14\n",
      "3 x 7 = 21\n",
      "4 x 7 = 28\n",
      "5 x 7 = 35\n",
      "6 x 7 = 42\n",
      "7 x 7 = 49\n",
      "8 x 7 = 56\n",
      "9 x 7 = 63\n",
      "10 x 7 = 70\n",
      "11 x 7 = 77\n",
      "12 x 7 = 84\n"
     ]
    }
   ],
   "source": [
    "\"\"\"\n",
    "Write a program that displays the \"Seven Times Table\". That is, the result of\n",
    "multiplying 7 by every number from 0 to 12 inclusive. The output might start:\n",
    "0 x 7 = 0\n",
    "1 x 7 = 7\n",
    "2 x 7 = 14\n",
    "\"\"\"\n",
    "# Displaying the Seven Times Table from 0 to 12\n",
    "for i in range(13):  # Looping from 0 to 12\n",
    "    print(f\"{i} x 7 = {i * 7}\")\n"
   ]
  },
  {
   "cell_type": "code",
   "execution_count": 27,
   "id": "7445ad51-96de-497e-9bc1-d93e83d6d0c3",
   "metadata": {},
   "outputs": [
    {
     "name": "stdin",
     "output_type": "stream",
     "text": [
      "Enter a number between 0 and 12 to see its times table:  11\n"
     ]
    },
    {
     "name": "stdout",
     "output_type": "stream",
     "text": [
      "0 x 11 = 0\n",
      "1 x 11 = 11\n",
      "2 x 11 = 22\n",
      "3 x 11 = 33\n",
      "4 x 11 = 44\n",
      "5 x 11 = 55\n",
      "6 x 11 = 66\n",
      "7 x 11 = 77\n",
      "8 x 11 = 88\n",
      "9 x 11 = 99\n",
      "10 x 11 = 110\n",
      "11 x 11 = 121\n",
      "12 x 11 = 132\n"
     ]
    }
   ],
   "source": [
    "\"\"\"\n",
    "Modify your \"Times Table\" program so that the user enters the number of the table\n",
    "they require. This number should be between 0 and 12 inclusive.\n",
    "\"\"\"\n",
    "# Ask the user for a number between 0 and 12\n",
    "number = int(input(\"Enter a number between 0 and 12 to see its times table: \"))\n",
    "\n",
    "# Check if the number is within the valid range\n",
    "if 0 <= number <= 12:\n",
    "    # Displaying the table for the entered number\n",
    "    for i in range(13):\n",
    "        print(f\"{i} x {number} = {i * number}\")\n",
    "else:\n",
    "    print(\"Error: Please enter a number between 0 and 12.\")\n"
   ]
  },
  {
   "cell_type": "code",
   "execution_count": 36,
   "id": "fb81f899-60a7-4599-b234-547c5d6b96a9",
   "metadata": {},
   "outputs": [
    {
     "name": "stdin",
     "output_type": "stream",
     "text": [
      "Enter a number between -12 and 12 to see its times table:  -7\n"
     ]
    },
    {
     "name": "stdout",
     "output_type": "stream",
     "text": [
      "12 x 7 = 84\n",
      "11 x 7 = 77\n",
      "10 x 7 = 70\n",
      "9 x 7 = 63\n",
      "8 x 7 = 56\n",
      "7 x 7 = 49\n",
      "6 x 7 = 42\n",
      "5 x 7 = 35\n",
      "4 x 7 = 28\n",
      "3 x 7 = 21\n",
      "2 x 7 = 14\n",
      "1 x 7 = 7\n",
      "0 x 7 = 0\n"
     ]
    }
   ],
   "source": [
    "\"\"\"\n",
    "Modify the \"Times Table\" again so that the user still enters the number of the table,\n",
    "but if this number is negative the table is printed backwards. So entering \"-7\"\n",
    "would produce the Seven Times Table starting at \"12 times\" down to \"0 times\".\n",
    "\"\"\"\n",
    "# Ask the user for a number between -12 and 12\n",
    "number = int(input(\"Enter a number between -12 and 12 to see its times table: \"))\n",
    "\n",
    "# Check if the number is valid\n",
    "if -12 <= number <= 12:\n",
    "    # If the number is negative, print the table in reverse order\n",
    "    if number < 0:\n",
    "        for i in range(12, -1, -1):  # Loop from 12 to 0\n",
    "            print(f\"{i} x {number * -1} = {i * (number * -1)}\")\n",
    "    else:\n",
    "        # Displaying the times table for the entered number\n",
    "        for i in range(13):\n",
    "            print(f\"{i} x {number} = {i * number}\")\n",
    "else:\n",
    "    print(\"Error: Please enter a number between -12 and 12.\")\n"
   ]
  },
  {
   "cell_type": "code",
   "execution_count": null,
   "id": "1d413202-60ca-4ddf-9d39-a2961854c022",
   "metadata": {},
   "outputs": [],
   "source": []
  }
 ],
 "metadata": {
  "kernelspec": {
   "display_name": "Python 3 (ipykernel)",
   "language": "python",
   "name": "python3"
  },
  "language_info": {
   "codemirror_mode": {
    "name": "ipython",
    "version": 3
   },
   "file_extension": ".py",
   "mimetype": "text/x-python",
   "name": "python",
   "nbconvert_exporter": "python",
   "pygments_lexer": "ipython3",
   "version": "3.12.3"
  }
 },
 "nbformat": 4,
 "nbformat_minor": 5
}
