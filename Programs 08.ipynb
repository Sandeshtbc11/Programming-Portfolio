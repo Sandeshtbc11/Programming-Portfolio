{
 "cells": [
  {
   "cell_type": "code",
   "execution_count": 18,
   "id": "61a28da0-d25b-4892-811b-36dce2510bac",
   "metadata": {},
   "outputs": [
    {
     "name": "stdout",
     "output_type": "stream",
     "text": [
      "1: Sandesh\n",
      "2: Basnet\n",
      "3: The British College\n"
     ]
    }
   ],
   "source": [
    "\"\"\"\n",
    "The Unix nl command prints the lines of a text file with a line number at the start\n",
    "of each line. (It can be useful when printing out programs for dry runs or white-box\n",
    "testing). Write an implementation of this command. It should take the name of the\n",
    "files as a command-line argument\n",
    "\"\"\"\n",
    "file_path = \"E:/bitish/SEM 3/FoCP/one.txt\"\n",
    "\n",
    "# Creating and write some lines\n",
    "with open(file_path, \"w\") as f:\n",
    "    f.write(\"Sandesh\\n\")\n",
    "    f.write(\"Basnet\\n\")\n",
    "    f.write(\"The British College\\n\")\n",
    "    \n",
    "try:\n",
    "    with open(file_path) as f:\n",
    "        # Enumerate \n",
    "        for line_num, line in enumerate(f, start=1):\n",
    "            print(f'{line_num}: {line}', end='')\n",
    "\n",
    "except FileNotFoundError:\n",
    "    print(\"File not found\")"
   ]
  },
  {
   "cell_type": "code",
   "execution_count": 23,
   "id": "e64355ea-487f-455c-9c63-045c6561a855",
   "metadata": {},
   "outputs": [
    {
     "name": "stdout",
     "output_type": "stream",
     "text": [
      "E:/bitish/SEM 3/FoCP/one.txt and E:/bitish/SEM 3/FoCP/two.txt contain the same contents\n"
     ]
    }
   ],
   "source": [
    "\"\"\"\n",
    "The Unix diff command compares two files and reports the dierences, if any.\n",
    "Write a simple implementation of this that takes two file names as command-line\n",
    "arguments and reports whether or not the two files are the same. (Define \"same\" as\n",
    "having the same contents.)\n",
    "\"\"\"\n",
    "file_1_path = \"E:/bitish/SEM 3/FoCP/one.txt\"\n",
    "file_2_path = \"E:/bitish/SEM 3/FoCP/two.txt\"\n",
    "\n",
    "try:\n",
    "    with open(file_1_path) as file_1:\n",
    "        with open(file_2_path) as file_2:\n",
    "\n",
    "            # Compare the contents of both files\n",
    "            if file_1.read() == file_2.read():\n",
    "                print(f\"{file_1_path} and {file_2_path} contain the same contents\")\n",
    "            else:\n",
    "                print(\"They are different\")\n",
    "\n",
    "except FileNotFoundError:\n",
    "    print(\"File not found\")\n"
   ]
  },
  {
   "cell_type": "code",
   "execution_count": null,
   "id": "d9c09d4d-0d6a-4902-879b-d83ef762b199",
   "metadata": {},
   "outputs": [],
   "source": [
    "\"\"\"\n",
    "The Unix grep command searches a file and outputs the lines in the file that\n",
    "contain a certain pattern. Write an implementation of this. It will take two\n",
    "command-line arguments: the first is the string to look for, and the second is the\n",
    "file name. The output should be the lines in the file that contain the string.\n",
    "\"\"\""
   ]
  },
  {
   "cell_type": "code",
   "execution_count": null,
   "id": "fbf1d85e-3bee-443f-b001-55a54fd9a586",
   "metadata": {},
   "outputs": [],
   "source": [
    "\"\"\"\n",
    "The Unix wc command counts the number of lines, words, and characters in a file.\n",
    "Write an implementation of this that takes a file name as a command-line\n",
    "argument, and then prints the number of lines and characters.\n",
    "Note: Linux (and Mac) users can use the \"wc\" command to check the results of their\n",
    "implementation\n",
    "\"\"\""
   ]
  },
  {
   "cell_type": "code",
   "execution_count": null,
   "id": "24b5c307-d45f-46e7-a044-1534689c1a87",
   "metadata": {},
   "outputs": [],
   "source": [
    "\"\"\"\n",
    "The Unix spell command is a simple spell-checker. It prints out all the words in a\n",
    "text file that are not found in a dictionary. Write and test an implementation of this,\n",
    "that takes a file name as a command-line argument.\n",
    "Note: You may want to simplify the program at first by testing with a text file that\n",
    "does not contain any punctuation. A complete version should obviously be able to\n",
    "handle normal files, with punctuation.\n",
    "Another Note: You will need a list of valid words. Linux users will already have one\n",
    "(probably in /usr/share/dict/words). It is more complicated, as usual, for\n",
    "Windows users. Happily, there are several available on GitHub.\n",
    "\"\"\""
   ]
  }
 ],
 "metadata": {
  "kernelspec": {
   "display_name": "Python 3 (ipykernel)",
   "language": "python",
   "name": "python3"
  },
  "language_info": {
   "codemirror_mode": {
    "name": "ipython",
    "version": 3
   },
   "file_extension": ".py",
   "mimetype": "text/x-python",
   "name": "python",
   "nbconvert_exporter": "python",
   "pygments_lexer": "ipython3",
   "version": "3.12.3"
  }
 },
 "nbformat": 4,
 "nbformat_minor": 5
}
